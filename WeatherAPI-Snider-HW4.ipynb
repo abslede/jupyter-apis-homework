{
 "cells": [
  {
   "cell_type": "markdown",
   "metadata": {},
   "source": [
    "# WeatherAPI (Weather)\n",
    "\n",
    "Answer the following questions using [WeatherAPI](http://www.weatherapi.com/). I've added three cells for most questions but you're free to use more or less! Hold `Shift` and hit `Enter` to run a cell, and use the `+` on the top left to add a new cell to a notebook.\n",
    "\n",
    "Be sure to take advantage of both the documentation and the API Explorer!\n",
    "\n",
    "## 0) Import any libraries you might need\n",
    "\n",
    "- *Tip: We're going to be downloading things from the internet, so we probably need `requests`.*\n",
    "- *Tip: Remember you only need to import requests once!*"
   ]
  },
  {
   "cell_type": "code",
   "execution_count": 49,
   "metadata": {},
   "outputs": [
    {
     "name": "stdout",
     "output_type": "stream",
     "text": [
      "Requirement already satisfied: python-dotenv in /home/abstech151/.local/lib/python3.7/site-packages (0.18.0)\r\n"
     ]
    }
   ],
   "source": [
    "#!touch .env\n",
    "!pip3 install python-dotenv"
   ]
  },
  {
   "cell_type": "code",
   "execution_count": 1,
   "metadata": {},
   "outputs": [],
   "source": [
    "import os\n",
    "from dotenv import load_dotenv\n",
    "load_dotenv()\n",
    "\n",
    "API_KEY = os.getenv('WEATHER_API_KEY')\n",
    "#print(API_KEY)\n",
    "\n",
    "# Good code!\n",
    "#response = requests.get(f\"https://example.com/api/?api_key={API_KEY}\")"
   ]
  },
  {
   "cell_type": "code",
   "execution_count": 2,
   "metadata": {},
   "outputs": [],
   "source": [
    "import requests\n",
    "response = requests.get(f\"http://api.weatherapi.com/v1/current.json?key={API_KEY}&q=Chapel_Hill\")\n",
    "data = response.json()\n",
    "\n",
    "#url = f\"http://ws.audioscrobbler.com/2.0/?method=artist.search&artist=lil&api_key={API_KEY}&format=json&limit=50\""
   ]
  },
  {
   "cell_type": "code",
   "execution_count": 3,
   "metadata": {
    "scrolled": true
   },
   "outputs": [
    {
     "name": "stdout",
     "output_type": "stream",
     "text": [
      "dict_keys(['location', 'current'])\n",
      "dict_values([{'name': 'Chapel Hill', 'region': 'North Carolina', 'country': 'United States of America', 'lat': 35.91, 'lon': -79.06, 'tz_id': 'America/New_York', 'localtime_epoch': 1624384323, 'localtime': '2021-06-22 13:52'}, {'last_updated_epoch': 1624383000, 'last_updated': '2021-06-22 13:30', 'temp_c': 23.3, 'temp_f': 73.9, 'is_day': 1, 'condition': {'code': 1009}, 'wind_mph': 9.8, 'wind_kph': 15.8, 'wind_degree': 230, 'wind_dir': 'SW', 'pressure_mb': 1009.0, 'pressure_in': 30.3, 'precip_mm': 0.6, 'precip_in': 0.02, 'humidity': 88, 'cloud': 100, 'feelslike_c': 25.5, 'feelslike_f': 77.9, 'uv': 5.0}])\n"
     ]
    }
   ],
   "source": [
    "print(data.keys())\n",
    "print(data.values())"
   ]
  },
  {
   "cell_type": "markdown",
   "metadata": {
    "collapsed": true
   },
   "source": [
    "## 1) Make a request to the Weather API for where you were born (or lived, or want to visit!).\n",
    "\n",
    "- *Tip: This sure seems familiar.*"
   ]
  },
  {
   "cell_type": "code",
   "execution_count": 4,
   "metadata": {},
   "outputs": [
    {
     "name": "stdout",
     "output_type": "stream",
     "text": [
      "Chapel Hill\n",
      "73.9\n",
      "9.8\n"
     ]
    }
   ],
   "source": [
    "print(data['location']['name'])\n",
    "print(data['current']['temp_f'])\n",
    "print(data['current']['wind_mph'])\n",
    "\n",
    "\n"
   ]
  },
  {
   "cell_type": "markdown",
   "metadata": {},
   "source": [
    "## 2) What's the current wind speed, and how much warmer does it feel than it actually is?\n",
    "\n",
    "- *Tip: You can do this by browsing through the dictionaries, but it might be easier to read the documentation*\n",
    "- *Tip: For the second half: it **is** one temperature, and it **feels** a different temperature. Calculate the difference. Same as we did last time!*"
   ]
  },
  {
   "cell_type": "code",
   "execution_count": 6,
   "metadata": {},
   "outputs": [
    {
     "name": "stdout",
     "output_type": "stream",
     "text": [
      "The current temp is: 70.5 degrees Fahrenheit.\n",
      "The current wind speed is: 6.0 miles per hour.\n",
      "It feels like 70.5\n",
      "It feels 0 degrees warmer than it is.\n"
     ]
    }
   ],
   "source": [
    "print(\"The current temp is:\", data['current']['temp_f'], \"degrees Fahrenheit.\")\n",
    "print(\"The current wind speed is:\", data['current']['wind_mph'], \"miles per hour.\")\n",
    "print(\"It feels like\", data['current']['feelslike_f'])\n",
    "feeldiff=(data['current']['feelslike_f']-data['current']['temp_f'])\n",
    "print(\"It feels\", round(feeldiff), \"degrees warmer than it is.\")"
   ]
  },
  {
   "cell_type": "markdown",
   "metadata": {},
   "source": [
    "## 3) What is the API endpoint for moon-related information? For the place you decided on above, how much of the moon will be visible on next Thursday?\n",
    "\n",
    "- *Tip: Check the documentation!*\n",
    "- *Tip: If you aren't sure what something means, ask in Slack*"
   ]
  },
  {
   "cell_type": "code",
   "execution_count": 22,
   "metadata": {},
   "outputs": [],
   "source": [
    "#according to the documentation, the moonphase is under the forecast\n",
    "import requests\n",
    "response = requests.get(f\"http://api.weatherapi.com/v1/forecast.json?key={API_KEY}&q=Chapel_Hill&days=3\")\n",
    "data = response.json()\n",
    "\n",
    "#(f\"http://api.weatherapi.com/v1/current.json?key={API_KEY}&q=Chapel_Hill\")"
   ]
  },
  {
   "cell_type": "code",
   "execution_count": 23,
   "metadata": {
    "scrolled": true
   },
   "outputs": [
    {
     "name": "stdout",
     "output_type": "stream",
     "text": [
      "The moonphase on the final day of our forecast will be: Waning Gibbous\n"
     ]
    }
   ],
   "source": [
    "#print(data.keys())\n",
    "#print(data['forecast'].keys())\n",
    "#forecastday is a list with three items\n",
    "#print(data['forecast'].keys())\n",
    "print(\"The moonphase on the final day of our forecast will be:\", data['forecast']['forecastday'][-1]['astro']['moon_phase'])\n",
    "#print(data['forecast']['date']\n",
    "#print(data['forecast'].values())\n",
    "#print(data['forecast'][0]['date'])"
   ]
  },
  {
   "cell_type": "markdown",
   "metadata": {},
   "source": [
    "## 4) What's the difference between the high and low temperatures for today?\n",
    "\n",
    "- *Tip: When you requested moon data, you probably overwrote your variables! If so, you'll need to make a new request.*"
   ]
  },
  {
   "cell_type": "code",
   "execution_count": 24,
   "metadata": {},
   "outputs": [],
   "source": [
    "import requests\n",
    "response = requests.get(f\"http://api.weatherapi.com/v1/forecast.json?key={API_KEY}&q=Chapel_Hill&days=3\")\n",
    "data = response.json()\n",
    "#key={API_KEY}"
   ]
  },
  {
   "cell_type": "code",
   "execution_count": 25,
   "metadata": {},
   "outputs": [
    {
     "name": "stdout",
     "output_type": "stream",
     "text": [
      "The expected high today is: 77.4\n",
      "The expected low today is: 64.9\n",
      "The temperature today will range 12 degrees.\n"
     ]
    }
   ],
   "source": [
    "#print(data['forecast'].keys())\n",
    "#print(data['forecast'].values())\n",
    "#print(type(data['forecast']))\n",
    "maxtemp=data['forecast']['forecastday'][0]['day']['maxtemp_f']\n",
    "print(\"The expected high today is:\", maxtemp)\n",
    "mintemp=data['forecast']['forecastday'][0]['day']['mintemp_f']\n",
    "print(\"The expected low today is:\", mintemp)\n",
    "tempdiff=abs(maxtemp-mintemp)\n",
    "print(\"The temperature today will range\", round(tempdiff), \"degrees.\")\n",
    "\n"
   ]
  },
  {
   "cell_type": "markdown",
   "metadata": {
    "collapsed": true
   },
   "source": [
    "## 4.5) How can you avoid the \"oh no I don't have the data any more because I made another request\" problem in the future?\n",
    "\n",
    "What variable(s) do you have to rename, and what would you rename them?"
   ]
  },
  {
   "cell_type": "code",
   "execution_count": 11,
   "metadata": {},
   "outputs": [],
   "source": [
    "#save data['forecast']['forecastday'] as a variable like next_weather=data['forecast']['forecastday']"
   ]
  },
  {
   "cell_type": "markdown",
   "metadata": {},
   "source": [
    "## 5) Go through the daily forecasts, printing out the next week's worth of predictions.\n",
    "\n",
    "I'd like to know the **high temperature** for each day, and whether it's **hot, warm, or cold** (based on what temperatures you think are hot, warm or cold).\n",
    "\n",
    "- *Tip: You'll need to use an `if` statement to say whether it is hot, warm or cold.*"
   ]
  },
  {
   "cell_type": "code",
   "execution_count": 26,
   "metadata": {},
   "outputs": [],
   "source": [
    "import requests\n",
    "response = requests.get(f\"http://api.weatherapi.com/v1/forecast.json?key={API_KEY}&q=Chapel_Hill&days=3\")\n",
    "data = response.json()\n"
   ]
  },
  {
   "cell_type": "code",
   "execution_count": 27,
   "metadata": {},
   "outputs": [
    {
     "name": "stdout",
     "output_type": "stream",
     "text": [
      "dict_keys(['forecastday'])\n"
     ]
    }
   ],
   "source": [
    "print(data['forecast'].keys())"
   ]
  },
  {
   "cell_type": "code",
   "execution_count": 14,
   "metadata": {},
   "outputs": [
    {
     "name": "stdout",
     "output_type": "stream",
     "text": [
      "2021-06-22\n",
      "The high for 2021-06-22 is 77.4\n",
      "It's not so hot today.\n",
      "2021-06-23\n",
      "The high for 2021-06-23 is 80.6\n",
      "It's not so hot today.\n",
      "2021-06-24\n",
      "The high for 2021-06-24 is 83.1\n",
      "It's not so hot today.\n"
     ]
    }
   ],
   "source": [
    "next_weather = data['forecast']['forecastday']\n",
    "#print(next_weather[0].keys())\n",
    "totaldays=len(next_weather)\n",
    "#print(totaldays)\n",
    "for day in next_weather:\n",
    "  print(day['date'])\n",
    "  print(\"The high for\", day['date'], \"is\", day['day']['maxtemp_f'])\n",
    "  if day['day']['maxtemp_f']>84:\n",
    "    print(\"That makes it hot today.\")\n",
    "  else:\n",
    "    print(\"It's not so hot today.\")"
   ]
  },
  {
   "cell_type": "markdown",
   "metadata": {},
   "source": [
    "# 6) What will be the hottest day in the next week? What is the high temperature on that day?"
   ]
  },
  {
   "cell_type": "code",
   "execution_count": null,
   "metadata": {
    "collapsed": true
   },
   "outputs": [],
   "source": [
    "#looping patterns, largest/smallest numbers"
   ]
  },
  {
   "cell_type": "code",
   "execution_count": 28,
   "metadata": {},
   "outputs": [
    {
     "name": "stdout",
     "output_type": "stream",
     "text": [
      "The hottest day is 2021-06-24 and the temp will be 83\n"
     ]
    }
   ],
   "source": [
    "hottestday=0\n",
    "for day in next_weather:\n",
    "  temptoday=int(day['day']['maxtemp_f'])\n",
    "  if temptoday>hottestday:\n",
    "    hottestday=temptoday\n",
    "    #int(hottestday)\n",
    "    #print(hottestday)\n",
    "print(\"The hottest day is\", day['date'], \"and the temp will be\", hottestday)\n"
   ]
  },
  {
   "cell_type": "markdown",
   "metadata": {},
   "source": [
    "## 7) What's the weather looking like for the next 24+ hours in Miami, Florida?\n",
    "\n",
    "I'd like to know the temperature for every hour, and if it's going to have cloud cover of more than 50% say \"{temperature} and cloudy\" instead of just the temperature. \n",
    "\n",
    "- *Tip: You'll only need one day of forecast*"
   ]
  },
  {
   "cell_type": "code",
   "execution_count": 29,
   "metadata": {},
   "outputs": [],
   "source": [
    "import requests\n",
    "response = requests.get(f\"http://api.weatherapi.com/v1/forecast.json?key={API_KEY}&q=Chapel_Hill&days=3\")\n"
   ]
  },
  {
   "cell_type": "code",
   "execution_count": 30,
   "metadata": {},
   "outputs": [
    {
     "name": "stdout",
     "output_type": "stream",
     "text": [
      "At 2021-06-22 00:00 the temperature will be 82.6 and it will be cloudy.\n",
      "At 2021-06-22 01:00 the temperature will be 76.8 and it will be cloudy.\n",
      "At 2021-06-22 02:00 the temperature will be 71.1 and it will be cloudy.\n",
      "At 2021-06-22 03:00 the temperature will be 70.9 and it will be cloudy.\n",
      "At 2021-06-22 04:00 the temperature will be 70.5 and it will be cloudy.\n",
      "At 2021-06-22 05:00 the temperature will be 70.3 and it will be cloudy.\n",
      "At 2021-06-22 06:00 the temperature will be 70.9 and it will be cloudy.\n",
      "At 2021-06-22 07:00 the temperature will be 71.6 and it will be cloudy.\n",
      "At 2021-06-22 08:00 the temperature will be 72.1 and it will be cloudy.\n",
      "At 2021-06-22 09:00 the temperature will be 72.3 and it will be cloudy.\n",
      "At 2021-06-22 10:00 the temperature will be 72.3 and it will be cloudy.\n",
      "At 2021-06-22 11:00 the temperature will be 72.5 and it will be cloudy.\n",
      "At 2021-06-22 12:00 the temperature will be 72.5 and it will be cloudy.\n",
      "At 2021-06-22 13:00 the temperature will be 72.3 and it will be cloudy.\n",
      "At 2021-06-22 14:00 the temperature will be 72.3 and it will be cloudy.\n",
      "At 2021-06-22 15:00 the temperature will be 73.9 and it will be cloudy.\n",
      "At 2021-06-22 16:00 the temperature will be 75.7 and it will be cloudy.\n",
      "At 2021-06-22 17:00 the temperature will be 77.4 and it will be cloudy.\n",
      "At 2021-06-22 18:00 the temperature will be 75.2 and it will be cloudy.\n",
      "At 2021-06-22 19:00 the temperature will be 72.9 and it will be cloudy.\n",
      "At 2021-06-22 20:00 the temperature will be 70.7 and it will be cloudy.\n",
      "At 2021-06-22 21:00 the temperature will be 68.7 and it will be cloudy.\n",
      "At 2021-06-22 22:00 the temperature will be 66.9 and it will be cloudy.\n",
      "At 2021-06-22 23:00 the temperature will be 64.9 and it will be cloudy.\n"
     ]
    }
   ],
   "source": [
    "#print(data.keys())\n",
    "#print(data['forecast'].keys())\n",
    "#print(data['forecast'].values())\n",
    "today=data['forecast']['forecastday'][0]['hour']\n",
    "#print(today[0].keys())\n",
    "for hour in today:\n",
    "    #print(hour['time'])\n",
    "    #print(hour['temp_f'])\n",
    "    #print(hour['cloud'])\n",
    "    if hour['cloud']>50:\n",
    "        print(\"At\", hour['time'], \"the temperature will be\", hour['temp_f'], \"and it will be cloudy.\")\n",
    "    else:\n",
    "        print(\"At\", hour['time'], \"the temp will be\", hour['temp_f'])                                        \n",
    "   \n"
   ]
  },
  {
   "cell_type": "markdown",
   "metadata": {},
   "source": [
    "# 8) For the next 24-ish hours in Miami, what percent of the time is the temperature above 85 degrees?\n",
    "\n",
    "- *Tip: You might want to read up on [looping patterns](http://jonathansoma.com/lede/foundations-2017/classes/data%20structures/looping-patterns/)*"
   ]
  },
  {
   "cell_type": "code",
   "execution_count": 31,
   "metadata": {},
   "outputs": [
    {
     "name": "stdout",
     "output_type": "stream",
     "text": [
      "0 percent of the time it will be above 85F.\n"
     ]
    }
   ],
   "source": [
    "count=0\n",
    "for hour in today:\n",
    "    if hour['temp_f']>85:\n",
    "        count=count+1\n",
    "share_hot=count/24\n",
    "print(round(share_hot*100), \"percent of the time it will be above 85F.\")"
   ]
  },
  {
   "cell_type": "markdown",
   "metadata": {},
   "source": [
    "## 9) What was the temperature in Central Park on Christmas Day, 2020? How about 2012? 2007? How far back does the API allow you to go?\n",
    "\n",
    "- *Tip: You'll need to use latitude/longitude. You can ask Google where Central Park is, it knows*\n",
    "- *Tip: Remember when latitude/longitude might use negative numbers*"
   ]
  },
  {
   "cell_type": "code",
   "execution_count": 22,
   "metadata": {},
   "outputs": [],
   "source": [
    "#can't get historic data for free?"
   ]
  }
 ],
 "metadata": {
  "interpreter": {
   "hash": "569d6b7e9215e11aba41c6454007e5c1b78bad7df09dab765d8cf00362c40f03"
  },
  "kernelspec": {
   "display_name": "Python 3",
   "language": "python",
   "name": "python3"
  },
  "language_info": {
   "codemirror_mode": {
    "name": "ipython",
    "version": 3
   },
   "file_extension": ".py",
   "mimetype": "text/x-python",
   "name": "python",
   "nbconvert_exporter": "python",
   "pygments_lexer": "ipython3",
   "version": "3.7.3"
  }
 },
 "nbformat": 4,
 "nbformat_minor": 1
}
